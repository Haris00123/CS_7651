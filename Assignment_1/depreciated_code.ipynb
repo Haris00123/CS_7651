{
 "cells": [
  {
   "cell_type": "code",
   "execution_count": null,
   "metadata": {},
   "outputs": [],
   "source": [
    "test=pd.read_csv('Data/Satander Customer Satisfaction/test.csv')\n",
    "test_test=sklr.transform(np.array(test))\n",
    "test['Target']=grid_knn_standardized.predict(test_test)\n",
    "test[['ID','Target']].to_csv('Data/Satander Customer Satisfaction/upload.csv')"
   ]
  },
  {
   "cell_type": "code",
   "execution_count": null,
   "metadata": {},
   "outputs": [],
   "source": [
    "## Job Placement Preprocessing\n",
    "\n",
    "# #Our first step in preprocessing the data is to remove the salary information, we do this for two reasons. The first is that salary information is partial (does not exist for non-placed students) and second, the salary information allows data leakage to occurs, if salary=0, it means the student was not placed. \n",
    "\n",
    "# df=df.loc[:,df.columns!='Class']\n",
    "\n",
    "# #If this were a typical machine learning problem, we would split the data into test and train datasets at this point. However, since this is an exercise focused on exploring differences in algorithms rather than selecting an ML solution for deployment, we will preprocess the data as a whole\n",
    "\n",
    "# #Our next step is to one-hot encode the categorical variables for the training data and label encode the, well, label. We use one-hot encoding for the features so there is no numerical order.\n",
    "\n",
    "# categorical_columns=['gender','ssc_b','hsc_b','hsc_s','degree_t','workex','specialisation']\n",
    "# label_columns=['status']\n",
    "\n",
    "# label_columns=['status']\n",
    "\n",
    "# Label=LabelEncoder()\n",
    "# Y=Label.fit_transform(np.array(df[label_columns]))\n",
    "\n",
    "\n",
    "\n",
    "# non_categorical_variables=list(set(df.columns).difference(set(categorical_columns+label_columns)))\n",
    "# X=np.array(df[non_categorical_variables])\n",
    "\n",
    "# label_dict={}\n",
    "# columns_categorized=non_categorical_variables\n",
    "# for i in categorical_columns:\n",
    "#     label_dict[i]=OneHotEncoder()\n",
    "#     res=label_dict[i].fit_transform(np.array(df[i]).reshape(-1,1)).toarray()\n",
    "#     X=np.c_[X,res]\n",
    "#     columns_categorized=columns_categorized+[i+'_'+j for j in ['1','2','3','4','5','6','7'][:res.shape[-1]]]"
   ]
  }
 ],
 "metadata": {
  "language_info": {
   "name": "python"
  },
  "orig_nbformat": 4
 },
 "nbformat": 4,
 "nbformat_minor": 2
}
