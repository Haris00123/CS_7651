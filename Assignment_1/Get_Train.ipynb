{
 "cells": [
  {
   "cell_type": "code",
   "execution_count": 13,
   "metadata": {},
   "outputs": [],
   "source": [
    "from selenium.webdriver import Firefox\n",
    "import datetime\n",
    "import time\n",
    "import pandas as pd\n",
    "from nordvpn_switcher import initialize_VPN,rotate_VPN,terminate_VPN"
   ]
  },
  {
   "cell_type": "code",
   "execution_count": 14,
   "metadata": {},
   "outputs": [],
   "source": [
    "def fix_query(query):\n",
    "    '''Function to add the \"%20\" tag to indicate space between multiworded phrases\n",
    "    \n",
    "    Parameters:\n",
    "    query (str): Word to be corrected\n",
    "    \n",
    "    Returns:\n",
    "    _ (str): Keyword corrected'''\n",
    "    return \"%20\".join(query.split(\" \"))"
   ]
  },
  {
   "cell_type": "code",
   "execution_count": 18,
   "metadata": {},
   "outputs": [],
   "source": [
    "key_word_list = [\"Stock\", \"Price\", \"Growth\", \"Production\",\n",
    "                 \"Demand\", \"Supply\", \"Outlook\", \"Market\", \"Freight\"]\n",
    "\n",
    "def get_data(big_query_list, last_two_weeks=True, bs4_call=False, word_list=key_word_list):\n",
    "    '''Function to get the news articles from Google news\n",
    "    \n",
    "    Parameters:\n",
    "    big_query_list (list[str]): List of string search words\n",
    "    last_year (bool): Bool that indicates that the function should only focus on news articles posted in the last year\n",
    "    bs4_call (bool): Bool to indicate that Beautiful Soup 4 shold be used to scrape the news articles (default is PhantomJS)\n",
    "    words_list (list[str]): List of string additional words that provide additional search queries, added with each of the big_query_words\n",
    "\n",
    "    Returns:\n",
    "    df (pd.DataFrame): Pandas dataframe of the articles the function has scraped. Columns are, article_headlines, subject (big query word) & the link of the article\n",
    "    articles_so_far (int): Number of articles that the function has scraped from google news \n",
    "    '''\n",
    "\n",
    "    #Initialize the number of articles\n",
    "    articles_so_far = 0\n",
    "\n",
    "    #Google Search Base\n",
    "    article_link_pre = \"https://news.google.com/\"\n",
    "    \n",
    "    article_headlines = []\n",
    "    article_link = []\n",
    "    subject_list = []\n",
    "\n",
    "   \n",
    "    \n",
    "    \n",
    "    #For word in key_word_list that enhances the big query words\n",
    "    for key_word in key_word_list:\n",
    "\n",
    "        #For the root word that is in the big_query_list\n",
    "        for root_query in big_query_list:\n",
    "\n",
    "            #Fixing the query so it can be searched \n",
    "            query = root_query + \" \" + key_word\n",
    "            query_fixed = fix_query(query)\n",
    "\n",
    "            #Query manipulation to decide on exact search term, based on duration of search \n",
    "            if last_two_weeks:\n",
    "                search_term = \"https://news.google.com/search?q=\" + \\\n",
    "                    query_fixed + \"%20when%3A14d&hl=en-CA&gl=CA&ceid=CA%3Aen\"\n",
    "            else:\n",
    "                search_term = \"https://news.google.com/search?q=\" + query_fixed + \"&hl=en-CA&gl=CA&ceid=CA%3Aen\"\n",
    "\n",
    "            #Scraping headlines elements based on chosen method \n",
    "            driver=Firefox(\"D:/geckodriver-v0.32.0-win-aarch64\")     \n",
    "            print(search_term)\n",
    "            driver.get(search_term)\n",
    "            #lastCount = driver.find_elements_by_xpath(\"//div[@class='m5k28']\")\n",
    "            lastCount = driver.find_elements(\"xpath\",\"//div[contains(@class,'m5k28']\")\n",
    "            while True:\n",
    "                #driver.execute_script(\"window.scrollTo(0, document.body.scrollHeight);\")\n",
    "                #time.sleep(0.5)\n",
    "                newCount = driver.find_elements(\"xpath\",\"//div[contains(@class,'m5k28']\")\n",
    "                if lastCount == newCount:\n",
    "                    break\n",
    "                lastCount = newCount\n",
    "            headline_list = driver.find_elements(\"xpath\",\"//div[contains(@class,'m5k28']\")\n",
    "\n",
    "            #Identifying the headline text, link and subject \n",
    "            for item in headline_list:\n",
    "                article_headline = item.text\n",
    "                if article_headline in article_headlines:\n",
    "                    continue\n",
    "                if root_query.lower() not in article_headline.lower():\n",
    "                    continue\n",
    "                article_headlines.append(article_headline)\n",
    "                if bs4_call:\n",
    "                    article_link.append(article_link_pre + item.find(\"a\")[\"href\"][2:])\n",
    "                else:\n",
    "                    article_link.append(item.find_element_by_tag_name(\"a\").get_attribute(\"href\"))\n",
    "                subject_list.append(root_query)\n",
    "                articles_so_far += 1\n",
    "\n",
    "            time.sleep(1)\n",
    "    print(\"Total news headlines analyzed: {}\".format(articles_so_far))\n",
    "    df = pd.DataFrame(list(zip(article_headlines, subject_list, article_link)),\n",
    "                      columns=[\"article_headline\", \"subject\", \"article_link\"])\n",
    "    now=datetime.datetime.now()\n",
    "    code='Data/'+str(now.year)+'_'+str(now.month)+'_'+str(now.day)+'_'+str(now.hour)+'.csv'\n",
    "    df.drop_duplicates(inplace=True)\n",
    "    df.to_csv(code)\n",
    "    return df, articles_so_far"
   ]
  },
  {
   "cell_type": "code",
   "execution_count": 19,
   "metadata": {},
   "outputs": [],
   "source": [
    "big_query_list = [\"Acid\",\n",
    "                    \"Alum and Water Treatment\"\n",
    "                    \"Aluminum\",\n",
    "                    \"Chemtrade\"\n",
    "                    \"Commodity Industry\",\n",
    "                    \"Commodities\",\n",
    "                    \"Copper\",\n",
    "                    \"Ethanol\",\n",
    "                    \"Fertilizer\",\n",
    "                    \"Glencore\",\n",
    "                    \"High Value Metals\",\n",
    "                    \"Industrial Chemical\",\n",
    "                    \"Kennecott\",\n",
    "                    \"Lead Acid Batteries\",\n",
    "                    \"Lithium\",\n",
    "                    \"Mining\"\n",
    "                    \"Nickel\",\n",
    "                    \"Paper\",\n",
    "                    \"Petroleum\",\n",
    "                    \"Potable Water\",\n",
    "                    \"Pulp\"\n",
    "                    \"Rail Cars\",\n",
    "                    \"Rio Tinto\",\n",
    "                    \"Rail\",\n",
    "                    \"Ship\",\n",
    "                    \"Shrieve Chemical\",\n",
    "                    \"Steel\",\n",
    "                    \"Sulfur\",\n",
    "                    \"Tampa Sulfur\",\n",
    "                    \"Vale\",\n",
    "                    \"Vanadium\",\n",
    "                    \"Vessel Charges\",\n",
    "                    \"Vessel\",\n",
    "                    \"Water Treatment\",\n",
    "                    \"Zinc\"\n",
    "                  ]"
   ]
  },
  {
   "cell_type": "code",
   "execution_count": 20,
   "metadata": {},
   "outputs": [
    {
     "name": "stderr",
     "output_type": "stream",
     "text": [
      "C:\\Users\\Admin\\AppData\\Local\\Temp\\ipykernel_7216\\2112597276.py:49: DeprecationWarning: firefox_profile has been deprecated, please pass in an Options object\n",
      "  driver=Firefox(\"D:/geckodriver-v0.32.0-win-aarch64\")\n"
     ]
    },
    {
     "name": "stdout",
     "output_type": "stream",
     "text": [
      "https://news.google.com/search?q=Acid%20Stock%20when%3A14d&hl=en-CA&gl=CA&ceid=CA%3Aen\n"
     ]
    },
    {
     "ename": "InvalidSelectorException",
     "evalue": "Message: Given xpath expression \"//div[contains(@class,'m5k28']\" is invalid: SyntaxError: Document.evaluate: The expression is not a legal expression\nStacktrace:\nRemoteError@chrome://remote/content/shared/RemoteError.sys.mjs:8:8\nWebDriverError@chrome://remote/content/shared/webdriver/Errors.sys.mjs:189:5\nInvalidSelectorError@chrome://remote/content/shared/webdriver/Errors.sys.mjs:428:5\nfind_@chrome://remote/content/shared/DOM.sys.mjs:166:11\ndom.find/</findElements<@chrome://remote/content/shared/DOM.sys.mjs:114:24\nevalFn@chrome://remote/content/marionette/sync.sys.mjs:117:7\nPollPromise/<@chrome://remote/content/marionette/sync.sys.mjs:137:5\nPollPromise@chrome://remote/content/marionette/sync.sys.mjs:108:10\ndom.find/<@chrome://remote/content/shared/DOM.sys.mjs:112:24\ndom.find@chrome://remote/content/shared/DOM.sys.mjs:111:10\nfindElements@chrome://remote/content/marionette/actors/MarionetteCommandsChild.sys.mjs:264:21\nreceiveMessage@chrome://remote/content/marionette/actors/MarionetteCommandsChild.sys.mjs:95:31\n",
     "output_type": "error",
     "traceback": [
      "\u001b[1;31m---------------------------------------------------------------------------\u001b[0m",
      "\u001b[1;31mInvalidSelectorException\u001b[0m                  Traceback (most recent call last)",
      "Cell \u001b[1;32mIn[20], line 1\u001b[0m\n\u001b[1;32m----> 1\u001b[0m get_data(big_query_list)\n",
      "Cell \u001b[1;32mIn[18], line 53\u001b[0m, in \u001b[0;36mget_data\u001b[1;34m(big_query_list, last_two_weeks, bs4_call, word_list)\u001b[0m\n\u001b[0;32m     51\u001b[0m driver\u001b[39m.\u001b[39mget(search_term)\n\u001b[0;32m     52\u001b[0m \u001b[39m#lastCount = driver.find_elements_by_xpath(\"//div[@class='m5k28']\")\u001b[39;00m\n\u001b[1;32m---> 53\u001b[0m lastCount \u001b[39m=\u001b[39m driver\u001b[39m.\u001b[39;49mfind_elements(\u001b[39m\"\u001b[39;49m\u001b[39mxpath\u001b[39;49m\u001b[39m\"\u001b[39;49m,\u001b[39m\"\u001b[39;49m\u001b[39m//div[contains(@class,\u001b[39;49m\u001b[39m'\u001b[39;49m\u001b[39mm5k28\u001b[39;49m\u001b[39m'\u001b[39;49m\u001b[39m]\u001b[39;49m\u001b[39m\"\u001b[39;49m)\n\u001b[0;32m     54\u001b[0m \u001b[39mwhile\u001b[39;00m \u001b[39mTrue\u001b[39;00m:\n\u001b[0;32m     55\u001b[0m     \u001b[39m#driver.execute_script(\"window.scrollTo(0, document.body.scrollHeight);\")\u001b[39;00m\n\u001b[0;32m     56\u001b[0m     \u001b[39m#time.sleep(0.5)\u001b[39;00m\n\u001b[0;32m     57\u001b[0m     newCount \u001b[39m=\u001b[39m driver\u001b[39m.\u001b[39mfind_elements(\u001b[39m\"\u001b[39m\u001b[39mxpath\u001b[39m\u001b[39m\"\u001b[39m,\u001b[39m\"\u001b[39m\u001b[39m//div[contains(@class,\u001b[39m\u001b[39m'\u001b[39m\u001b[39mm5k28\u001b[39m\u001b[39m'\u001b[39m\u001b[39m]\u001b[39m\u001b[39m\"\u001b[39m)\n",
      "File \u001b[1;32mc:\\Users\\Admin\\anaconda3\\envs\\restaurant_Reviews_3.8\\lib\\site-packages\\selenium\\webdriver\\remote\\webdriver.py:892\u001b[0m, in \u001b[0;36mWebDriver.find_elements\u001b[1;34m(self, by, value)\u001b[0m\n\u001b[0;32m    888\u001b[0m     value \u001b[39m=\u001b[39m \u001b[39m'\u001b[39m\u001b[39m[name=\u001b[39m\u001b[39m\"\u001b[39m\u001b[39m%s\u001b[39;00m\u001b[39m\"\u001b[39m\u001b[39m]\u001b[39m\u001b[39m'\u001b[39m \u001b[39m%\u001b[39m value\n\u001b[0;32m    890\u001b[0m \u001b[39m# Return empty list if driver returns null\u001b[39;00m\n\u001b[0;32m    891\u001b[0m \u001b[39m# See https://github.com/SeleniumHQ/selenium/issues/4555\u001b[39;00m\n\u001b[1;32m--> 892\u001b[0m \u001b[39mreturn\u001b[39;00m \u001b[39mself\u001b[39;49m\u001b[39m.\u001b[39;49mexecute(Command\u001b[39m.\u001b[39;49mFIND_ELEMENTS, {\u001b[39m\"\u001b[39;49m\u001b[39musing\u001b[39;49m\u001b[39m\"\u001b[39;49m: by, \u001b[39m\"\u001b[39;49m\u001b[39mvalue\u001b[39;49m\u001b[39m\"\u001b[39;49m: value})[\u001b[39m\"\u001b[39m\u001b[39mvalue\u001b[39m\u001b[39m\"\u001b[39m] \u001b[39mor\u001b[39;00m []\n",
      "File \u001b[1;32mc:\\Users\\Admin\\anaconda3\\envs\\restaurant_Reviews_3.8\\lib\\site-packages\\selenium\\webdriver\\remote\\webdriver.py:444\u001b[0m, in \u001b[0;36mWebDriver.execute\u001b[1;34m(self, driver_command, params)\u001b[0m\n\u001b[0;32m    442\u001b[0m response \u001b[39m=\u001b[39m \u001b[39mself\u001b[39m\u001b[39m.\u001b[39mcommand_executor\u001b[39m.\u001b[39mexecute(driver_command, params)\n\u001b[0;32m    443\u001b[0m \u001b[39mif\u001b[39;00m response:\n\u001b[1;32m--> 444\u001b[0m     \u001b[39mself\u001b[39;49m\u001b[39m.\u001b[39;49merror_handler\u001b[39m.\u001b[39;49mcheck_response(response)\n\u001b[0;32m    445\u001b[0m     response[\u001b[39m\"\u001b[39m\u001b[39mvalue\u001b[39m\u001b[39m\"\u001b[39m] \u001b[39m=\u001b[39m \u001b[39mself\u001b[39m\u001b[39m.\u001b[39m_unwrap_value(response\u001b[39m.\u001b[39mget(\u001b[39m\"\u001b[39m\u001b[39mvalue\u001b[39m\u001b[39m\"\u001b[39m, \u001b[39mNone\u001b[39;00m))\n\u001b[0;32m    446\u001b[0m     \u001b[39mreturn\u001b[39;00m response\n",
      "File \u001b[1;32mc:\\Users\\Admin\\anaconda3\\envs\\restaurant_Reviews_3.8\\lib\\site-packages\\selenium\\webdriver\\remote\\errorhandler.py:249\u001b[0m, in \u001b[0;36mErrorHandler.check_response\u001b[1;34m(self, response)\u001b[0m\n\u001b[0;32m    247\u001b[0m         alert_text \u001b[39m=\u001b[39m value[\u001b[39m\"\u001b[39m\u001b[39malert\u001b[39m\u001b[39m\"\u001b[39m]\u001b[39m.\u001b[39mget(\u001b[39m\"\u001b[39m\u001b[39mtext\u001b[39m\u001b[39m\"\u001b[39m)\n\u001b[0;32m    248\u001b[0m     \u001b[39mraise\u001b[39;00m exception_class(message, screen, stacktrace, alert_text)  \u001b[39m# type: ignore[call-arg]  # mypy is not smart enough here\u001b[39;00m\n\u001b[1;32m--> 249\u001b[0m \u001b[39mraise\u001b[39;00m exception_class(message, screen, stacktrace)\n",
      "\u001b[1;31mInvalidSelectorException\u001b[0m: Message: Given xpath expression \"//div[contains(@class,'m5k28']\" is invalid: SyntaxError: Document.evaluate: The expression is not a legal expression\nStacktrace:\nRemoteError@chrome://remote/content/shared/RemoteError.sys.mjs:8:8\nWebDriverError@chrome://remote/content/shared/webdriver/Errors.sys.mjs:189:5\nInvalidSelectorError@chrome://remote/content/shared/webdriver/Errors.sys.mjs:428:5\nfind_@chrome://remote/content/shared/DOM.sys.mjs:166:11\ndom.find/</findElements<@chrome://remote/content/shared/DOM.sys.mjs:114:24\nevalFn@chrome://remote/content/marionette/sync.sys.mjs:117:7\nPollPromise/<@chrome://remote/content/marionette/sync.sys.mjs:137:5\nPollPromise@chrome://remote/content/marionette/sync.sys.mjs:108:10\ndom.find/<@chrome://remote/content/shared/DOM.sys.mjs:112:24\ndom.find@chrome://remote/content/shared/DOM.sys.mjs:111:10\nfindElements@chrome://remote/content/marionette/actors/MarionetteCommandsChild.sys.mjs:264:21\nreceiveMessage@chrome://remote/content/marionette/actors/MarionetteCommandsChild.sys.mjs:95:31\n"
     ]
    }
   ],
   "source": [
    "get_data(big_query_list)"
   ]
  },
  {
   "cell_type": "code",
   "execution_count": null,
   "metadata": {},
   "outputs": [],
   "source": []
  }
 ],
 "metadata": {
  "kernelspec": {
   "display_name": "restaurant_reviews",
   "language": "python",
   "name": "python3"
  },
  "language_info": {
   "codemirror_mode": {
    "name": "ipython",
    "version": 3
   },
   "file_extension": ".py",
   "mimetype": "text/x-python",
   "name": "python",
   "nbconvert_exporter": "python",
   "pygments_lexer": "ipython3",
   "version": "3.8.17"
  },
  "orig_nbformat": 4
 },
 "nbformat": 4,
 "nbformat_minor": 2
}
