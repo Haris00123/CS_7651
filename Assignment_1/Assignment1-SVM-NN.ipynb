{
 "cells": [
  {
   "cell_type": "code",
   "execution_count": 6,
   "metadata": {},
   "outputs": [],
   "source": [
    "import pandas as pd\n",
    "import numpy as np\n",
    "import scipy\n",
    "import sklearn\n",
    "from sklearn.preprocessing import OneHotEncoder, LabelEncoder\n",
    "from sklearn.model_selection import train_test_split\n",
    "from sklearn.tree import DecisionTreeClassifier\n",
    "import matplotlib.pyplot as plt\n",
    "import time\n",
    "import operator"
   ]
  },
  {
   "cell_type": "code",
   "execution_count": 7,
   "metadata": {},
   "outputs": [],
   "source": [
    "#Function to load and prepare the hotel dataset\n",
    "def load_hotel():\n",
    "    df=pd.read_csv('Data/Hotel_Res/Hotel Reservations.csv')\n",
    "    df=df.drop('arrival_year',axis=1) #Remove Year\n",
    "    df['season']=df['arrival_month'].apply(lambda x:1 if (x>=4 and x<=9) else 0) #0-Summer, 1-Winter\n",
    "    df.drop('arrival_month',inplace=True,axis=1)\n",
    "    df['point_in_month']=df['arrival_date'].apply(lambda x:1 if (x<=15) else 0) #0-eralier in the month,1-later\n",
    "\n",
    "    #Removing Booking ID as it not a usefull feature\n",
    "    df=df.drop('Booking_ID',axis=1)\n",
    "\n",
    "    #Creating the labels (Y)\n",
    "    Y=np.array(df['booking_status'].apply(lambda x:0 if x=='Not_Canceled' else 1)) #0 if not canceled, 1 if canceled\n",
    "\n",
    "    df.drop('booking_status',inplace=True,axis=1)\n",
    "\n",
    "    #Creating the feature vector, X \n",
    "    categorical_columns=['type_of_meal_plan', 'room_type_reserved', 'market_segment_type']\n",
    "    non_categorical_variables=list(set(df.columns).difference(set(categorical_columns+label_columns)))\n",
    "    X=np.array(df[non_categorical_variables])\n",
    "    columns_categorized=non_categorical_variables\n",
    "\n",
    "    #Now we need to one hot vectorize the type_of_meal_plan, room_type_reserved and market_segment_type\n",
    "    categorical_columns=['type_of_meal_plan','room_type_reserved','market_segment_type']\n",
    "    label_dict={}\n",
    "    for i in categorical_columns:\n",
    "        label_dict[i]=OneHotEncoder()\n",
    "        res=label_dict[i].fit_transform(np.array(df[i]).reshape(-1,1)).toarray()\n",
    "        X=np.c_[X,res]\n",
    "        columns_categorized=columns_categorized+[i+'_'+j for j in ['1','2','3','4','5','6','7'][:res.shape[-1]]]       \n",
    "    return X,Y"
   ]
  },
  {
   "cell_type": "code",
   "execution_count": 10,
   "metadata": {},
   "outputs": [],
   "source": [
    "#Load CSR Data\n",
    "\n",
    "def load_smoke_data():\n",
    "    df_c=pd.read_csv('Data/Smoke/data.csv')\n",
    "    X=np.array(df_c.iloc[:,:-1])\n",
    "    Y=np.array(df_c.iloc[:,-1])\n",
    "    return X,Y"
   ]
  },
  {
   "attachments": {},
   "cell_type": "markdown",
   "metadata": {},
   "source": [
    "#### SVM"
   ]
  },
  {
   "cell_type": "code",
   "execution_count": null,
   "metadata": {},
   "outputs": [],
   "source": [
    "#Here we'll look at C, kernel, Degree - for Poly , Gamma for RBF,"
   ]
  }
 ],
 "metadata": {
  "kernelspec": {
   "display_name": "CSE_6040",
   "language": "python",
   "name": "python3"
  },
  "language_info": {
   "codemirror_mode": {
    "name": "ipython",
    "version": 3
   },
   "file_extension": ".py",
   "mimetype": "text/x-python",
   "name": "python",
   "nbconvert_exporter": "python",
   "pygments_lexer": "ipython3",
   "version": "3.10.4"
  },
  "orig_nbformat": 4
 },
 "nbformat": 4,
 "nbformat_minor": 2
}
